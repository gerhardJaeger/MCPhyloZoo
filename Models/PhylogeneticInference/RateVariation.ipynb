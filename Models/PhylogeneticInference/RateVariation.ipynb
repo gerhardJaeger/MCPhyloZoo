{
 "cells": [
  {
   "cell_type": "markdown",
   "metadata": {},
   "source": [
    "# Phylogenetic Inference with across site rate variation\n",
    "\n",
    "This notebook gives an example on how to do phylogenetic inference using the PNUTS algorithm and across site rate variation.\n",
    "\n",
    "First the MCPhylo package and the Random package are loaded. And the data is loaded."
   ]
  },
  {
   "cell_type": "code",
   "execution_count": 1,
   "metadata": {},
   "outputs": [
    {
     "name": "stderr",
     "output_type": "stream",
     "text": [
      "┌ Warning: Keyword datatype not understood, will be ignored\n",
      "└ @ MCPhylo /home/gjaeger/.julia/packages/MCPhylo/KWPlY/src/Parser/ParseNexus.jl:92\n",
      "┌ Warning: Keyword interleave not understood, will be ignored\n",
      "└ @ MCPhylo /home/gjaeger/.julia/packages/MCPhylo/KWPlY/src/Parser/ParseNexus.jl:92\n"
     ]
    }
   ],
   "source": [
    "using MCPhylo;\n",
    "using Random;\n",
    "Random.seed!(1234);\n",
    "\n",
    "tree, data = make_tree_with_data(\"Example.nex\");\n",
    "\n",
    "data_dictionary = Dict{Symbol, Any}(\n",
    "  :data => data\n",
    ");"
   ]
  },
  {
   "cell_type": "markdown",
   "metadata": {},
   "source": [
    "Create a model which uses discrete gamma rates for across site rate variaton."
   ]
  },
  {
   "cell_type": "code",
   "execution_count": 2,
   "metadata": {},
   "outputs": [
    {
     "data": {
      "text/plain": [
       "Object of type \"Model\"\n",
       "-------------------------------------------------------------------------------\n",
       "a:\n",
       "Object of type \"Stochastic{Float64, var\"#27#28\", MCPhylo.NullUnivariateDistribution}\"\n",
       "NaN\n",
       "-------------------------------------------------------------------------------\n",
       "eq_freq:\n",
       "Object of type \"Stochastic{Vector{Float64}, var\"#21#22\", MCPhylo.NullUnivariateDistribution}\"\n",
       "Float64[]\n",
       "-------------------------------------------------------------------------------\n",
       "tree:\n",
       "Object of type \"Stochastic{GeneralNode{Float64, Int64}, var\"#23#24\", MCPhylo.NullUnivariateDistribution}\"\n",
       "Tree with root:\n",
       "\"no_name\"\n",
       "Length:\n",
       "0.0\n",
       "Height:\n",
       "0.0\n",
       "-------------------------------------------------------------------------------\n",
       "rates:\n",
       "Object of type \"Logical{Vector{Float64}, var\"#25#26\"}\"\n",
       "Float64[]\n",
       "-------------------------------------------------------------------------------\n",
       "data:\n",
       "Object of type \"Stochastic{Array{Float64, 3}, var\"#19#20\", MCPhylo.NullUnivariateDistribution}\"\n",
       "Array{Float64, 3}(undef, 0, 0, 0)\n"
      ]
     },
     "metadata": {},
     "output_type": "display_data"
    },
    {
     "name": "stderr",
     "output_type": "stream",
     "text": [
      "WARNING: both DataStructures and MCPhyloTree export \"find_root\"; uses of it in module MCPhylo must be qualified\n",
      "WARNING: both Plots and LinearAlgebra export \"rotate!\"; uses of it in module MCPhylo must be qualified\n"
     ]
    }
   ],
   "source": [
    "model =  Model(\n",
    "    data = Stochastic(3, (tree, eq_freq, rates) ->  PhyloDist(tree, eq_freq, [1.0], rates, Restriction), false),\n",
    "    eq_freq = Stochastic(1, () -> Dirichlet(2,1)),\n",
    "    tree = Stochastic(Node(), () -> TreeDistribution(CompoundDirichlet(1.0,1.0,0.100,1.0)), true),\n",
    "    rates = Logical(1, (a)->discrete_gamma_rates(a,a,4)),\n",
    "    a = Stochastic(()->Exponential(), true)\n",
    "     )"
   ]
  },
  {
   "cell_type": "markdown",
   "metadata": {},
   "source": [
    "Set the samplers for the tree, the equilibrium frequencies and the parameter for the discrete gamma rates."
   ]
  },
  {
   "cell_type": "code",
   "execution_count": 3,
   "metadata": {},
   "outputs": [],
   "source": [
    "scheme = [PNUTS(:tree, target=0.7, targetNNI=0.5),\n",
    "          SliceSimplex(:eq_freq),\n",
    "          Slice(:a, 1.0)\n",
    "          ]\n",
    "\n",
    "setsamplers!(model, scheme);\n",
    "\n",
    "inits = [ Dict{Symbol, Union{Any, Real}}(\n",
    "    :tree => tree,\n",
    "    :eq_freq=> rand(Dirichlet(2,1)),\n",
    "    :data => data_dictionary[:data],\n",
    "    :a => rand()\n",
    "    ),\n",
    "    ];\n"
   ]
  },
  {
   "cell_type": "markdown",
   "metadata": {},
   "source": [
    "Run the MCMC. The statusbar is suppressed via the `verbose` argument, to avoid a cluttering of the output."
   ]
  },
  {
   "cell_type": "code",
   "execution_count": 4,
   "metadata": {},
   "outputs": [
    {
     "name": "stdout",
     "output_type": "stream",
     "text": [
      "\n",
      "\n"
     ]
    },
    {
     "data": {
      "text/plain": [
       "Object of type \"ModelChains\"\n",
       "\n",
       "Iterations = 2505:5000\n",
       "Thinning interval = 5\n",
       "Chains = 1\n",
       "Samples per chain = 500\n",
       "Burnin = 2500\n",
       "[47.29790385561676 0.6054776401257185 … 2.143269560848256 -119.77231422891795; 41.910741847424305 0.6023453601328966 … 2.2974681799505676 -120.00079752732205; … ; 29.611462070141677 0.628138472303778 … 2.501859827301457 -120.37523039762013; 23.470047781218124 0.6671523105877593 … 2.1894329698700243 -119.22209094811562;;;]"
      ]
     },
     "metadata": {},
     "output_type": "display_data"
    },
    {
     "name": "stdout",
     "output_type": "stream",
     "text": [
      "\n"
     ]
    }
   ],
   "source": [
    "sim = mcmc(model, data_dictionary, inits, 5000, burnin=2500,thin=5, chains=1, trees=true, verbose=false)"
   ]
  },
  {
   "cell_type": "code",
   "execution_count": null,
   "metadata": {},
   "outputs": [],
   "source": []
  }
 ],
 "metadata": {
  "kernelspec": {
   "display_name": "Julia 1.8.5",
   "language": "julia",
   "name": "julia-1.8"
  },
  "language_info": {
   "file_extension": ".jl",
   "mimetype": "application/julia",
   "name": "julia",
   "version": "1.8.5"
  }
 },
 "nbformat": 4,
 "nbformat_minor": 4
}
